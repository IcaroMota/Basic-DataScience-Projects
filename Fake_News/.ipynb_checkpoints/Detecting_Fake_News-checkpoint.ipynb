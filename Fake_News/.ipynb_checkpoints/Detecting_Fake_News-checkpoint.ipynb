{
 "cells": [
  {
   "cell_type": "code",
   "execution_count": 1,
   "metadata": {
    "id": "7xAA38jR84dY"
   },
   "outputs": [],
   "source": [
    "import pandas as pd\n",
    "from sklearn.model_selection import train_test_split\n",
    "from sklearn.feature_extraction.text import TfidfVectorizer\n",
    "from sklearn.linear_model import PassiveAggressiveClassifier\n",
    "from sklearn.metrics import accuracy_score, confusion_matrix"
   ]
  },
  {
   "cell_type": "code",
   "execution_count": 3,
   "metadata": {
    "colab": {
     "base_uri": "https://localhost:8080/",
     "height": 221
    },
    "id": "lQMST86s9MfS",
    "outputId": "a579beab-832c-4286-dbc3-36ad7afa5bff"
   },
   "outputs": [
    {
     "name": "stdout",
     "output_type": "stream",
     "text": [
      "(6335, 4)\n"
     ]
    },
    {
     "data": {
      "text/html": [
       "<div>\n",
       "<style scoped>\n",
       "    .dataframe tbody tr th:only-of-type {\n",
       "        vertical-align: middle;\n",
       "    }\n",
       "\n",
       "    .dataframe tbody tr th {\n",
       "        vertical-align: top;\n",
       "    }\n",
       "\n",
       "    .dataframe thead th {\n",
       "        text-align: right;\n",
       "    }\n",
       "</style>\n",
       "<table border=\"1\" class=\"dataframe\">\n",
       "  <thead>\n",
       "    <tr style=\"text-align: right;\">\n",
       "      <th></th>\n",
       "      <th>Unnamed: 0</th>\n",
       "      <th>title</th>\n",
       "      <th>text</th>\n",
       "      <th>label</th>\n",
       "    </tr>\n",
       "  </thead>\n",
       "  <tbody>\n",
       "    <tr>\n",
       "      <th>0</th>\n",
       "      <td>8476</td>\n",
       "      <td>You Can Smell Hillary’s Fear</td>\n",
       "      <td>Daniel Greenfield, a Shillman Journalism Fello...</td>\n",
       "      <td>FAKE</td>\n",
       "    </tr>\n",
       "    <tr>\n",
       "      <th>1</th>\n",
       "      <td>10294</td>\n",
       "      <td>Watch The Exact Moment Paul Ryan Committed Pol...</td>\n",
       "      <td>Google Pinterest Digg Linkedin Reddit Stumbleu...</td>\n",
       "      <td>FAKE</td>\n",
       "    </tr>\n",
       "    <tr>\n",
       "      <th>2</th>\n",
       "      <td>3608</td>\n",
       "      <td>Kerry to go to Paris in gesture of sympathy</td>\n",
       "      <td>U.S. Secretary of State John F. Kerry said Mon...</td>\n",
       "      <td>REAL</td>\n",
       "    </tr>\n",
       "    <tr>\n",
       "      <th>3</th>\n",
       "      <td>10142</td>\n",
       "      <td>Bernie supporters on Twitter erupt in anger ag...</td>\n",
       "      <td>— Kaydee King (@KaydeeKing) November 9, 2016 T...</td>\n",
       "      <td>FAKE</td>\n",
       "    </tr>\n",
       "    <tr>\n",
       "      <th>4</th>\n",
       "      <td>875</td>\n",
       "      <td>The Battle of New York: Why This Primary Matters</td>\n",
       "      <td>It's primary day in New York and front-runners...</td>\n",
       "      <td>REAL</td>\n",
       "    </tr>\n",
       "  </tbody>\n",
       "</table>\n",
       "</div>"
      ],
      "text/plain": [
       "   Unnamed: 0                                              title  \\\n",
       "0        8476                       You Can Smell Hillary’s Fear   \n",
       "1       10294  Watch The Exact Moment Paul Ryan Committed Pol...   \n",
       "2        3608        Kerry to go to Paris in gesture of sympathy   \n",
       "3       10142  Bernie supporters on Twitter erupt in anger ag...   \n",
       "4         875   The Battle of New York: Why This Primary Matters   \n",
       "\n",
       "                                                text label  \n",
       "0  Daniel Greenfield, a Shillman Journalism Fello...  FAKE  \n",
       "1  Google Pinterest Digg Linkedin Reddit Stumbleu...  FAKE  \n",
       "2  U.S. Secretary of State John F. Kerry said Mon...  REAL  \n",
       "3  — Kaydee King (@KaydeeKing) November 9, 2016 T...  FAKE  \n",
       "4  It's primary day in New York and front-runners...  REAL  "
      ]
     },
     "execution_count": 3,
     "metadata": {},
     "output_type": "execute_result"
    }
   ],
   "source": [
    "#if occours any error reading the news.csv, try to \n",
    "df=pd.read_csv('news.csv')\n",
    "print(df.shape)\n",
    "df.head()"
   ]
  },
  {
   "cell_type": "code",
   "execution_count": 9,
   "metadata": {
    "colab": {
     "base_uri": "https://localhost:8080/"
    },
    "id": "BHqmDB_2UkGd",
    "outputId": "adfafafa-10d1-44db-f859-91b44f9a6a14"
   },
   "outputs": [
    {
     "name": "stdout",
     "output_type": "stream",
     "text": [
      "<class 'pandas.core.frame.DataFrame'>\n",
      "RangeIndex: 6335 entries, 0 to 6334\n",
      "Data columns (total 4 columns):\n",
      " #   Column      Non-Null Count  Dtype \n",
      "---  ------      --------------  ----- \n",
      " 0   Unnamed: 0  6335 non-null   int64 \n",
      " 1   title       6335 non-null   object\n",
      " 2   text        6335 non-null   object\n",
      " 3   label       6335 non-null   object\n",
      "dtypes: int64(1), object(3)\n",
      "memory usage: 198.1+ KB\n"
     ]
    }
   ],
   "source": [
    "df.info()"
   ]
  },
  {
   "cell_type": "code",
   "execution_count": 11,
   "metadata": {
    "colab": {
     "base_uri": "https://localhost:8080/"
    },
    "id": "pmSdx3-GUnxi",
    "outputId": "05b7d9c7-413d-47d9-8d1e-ae4b7aa67bec"
   },
   "outputs": [
    {
     "name": "stdout",
     "output_type": "stream",
     "text": [
      "how many fakes\n",
      "3164\n",
      "how many reals\n",
      "3171\n"
     ]
    }
   ],
   "source": [
    "print('how many fakes')\n",
    "print(df.label[df.label=='FAKE'].shape[0])\n",
    "print('how many reals')\n",
    "print(df.label[df.label=='REAL'].shape[0])"
   ]
  },
  {
   "cell_type": "code",
   "execution_count": 13,
   "metadata": {
    "colab": {
     "base_uri": "https://localhost:8080/"
    },
    "id": "0DGCaD2k-17V",
    "outputId": "35215b42-814c-4eea-dc5d-69e2ef9224aa"
   },
   "outputs": [
    {
     "data": {
      "text/plain": [
       "0    FAKE\n",
       "1    FAKE\n",
       "2    REAL\n",
       "3    FAKE\n",
       "4    REAL\n",
       "Name: label, dtype: object"
      ]
     },
     "execution_count": 13,
     "metadata": {
      "tags": []
     },
     "output_type": "execute_result"
    }
   ],
   "source": [
    "labels=df.label\n",
    "labels.head()"
   ]
  },
  {
   "cell_type": "code",
   "execution_count": 14,
   "metadata": {
    "colab": {
     "base_uri": "https://localhost:8080/"
    },
    "id": "kWN6uMgMZSrM",
    "outputId": "3f595355-a9c9-4fed-f5aa-5f52dbf8b82c"
   },
   "outputs": [
    {
     "data": {
      "text/plain": [
       "0       0\n",
       "1       0\n",
       "2       1\n",
       "3       0\n",
       "4       1\n",
       "       ..\n",
       "6330    1\n",
       "6331    0\n",
       "6332    0\n",
       "6333    1\n",
       "6334    1\n",
       "Name: label, Length: 6335, dtype: int64"
      ]
     },
     "execution_count": 14,
     "metadata": {
      "tags": []
     },
     "output_type": "execute_result"
    }
   ],
   "source": [
    "labels.replace('FAKE', 0).replace('REAL', 1)"
   ]
  },
  {
   "cell_type": "code",
   "execution_count": 44,
   "metadata": {
    "colab": {
     "base_uri": "https://localhost:8080/"
    },
    "id": "zpSDUkhxag4G",
    "outputId": "a9f9eb1f-d4c5-4071-e698-d5c7d5703cda"
   },
   "outputs": [
    {
     "data": {
      "text/plain": [
       "0    Daniel Greenfield, a Shillman Journalism Fello...\n",
       "1    Google Pinterest Digg Linkedin Reddit Stumbleu...\n",
       "2    U.S. Secretary of State John F. Kerry said Mon...\n",
       "3    — Kaydee King (@KaydeeKing) November 9, 2016 T...\n",
       "4    It's primary day in New York and front-runners...\n",
       "Name: text, dtype: object"
      ]
     },
     "execution_count": 44,
     "metadata": {
      "tags": []
     },
     "output_type": "execute_result"
    }
   ],
   "source": [
    "features=df['text']\n",
    "features.head()"
   ]
  },
  {
   "cell_type": "code",
   "execution_count": 48,
   "metadata": {
    "id": "fMd1_wui_VhW"
   },
   "outputs": [],
   "source": [
    "x_train,x_test,y_train,y_test=train_test_split(features, labels, test_size=0.3, random_state=41)"
   ]
  },
  {
   "cell_type": "code",
   "execution_count": 49,
   "metadata": {
    "id": "a92Q7zHd_apj"
   },
   "outputs": [],
   "source": [
    "#Initialize TfidfVectorizer then fit and transform with the train set\n",
    "vectorizer=TfidfVectorizer(stop_words='english', max_df=0.5, sublinear_tf=True)\n",
    "vec_train=vectorizer.fit_transform(x_train) \n",
    "vec_test=vectorizer.transform(x_test)"
   ]
  },
  {
   "cell_type": "code",
   "execution_count": 50,
   "metadata": {
    "colab": {
     "base_uri": "https://localhost:8080/"
    },
    "id": "91YI3TMlcNaX",
    "outputId": "fcef3098-cf82-4bfd-a902-82f44bee965f"
   },
   "outputs": [
    {
     "name": "stdout",
     "output_type": "stream",
     "text": [
      "  (0, 24534)\t0.049461805256037515\n",
      "  (0, 57424)\t0.02602078929148977\n",
      "  (0, 33813)\t0.034424100265260105\n",
      "  (0, 42648)\t0.057858536818489154\n",
      "  (0, 36207)\t0.06351127676425108\n",
      "  (0, 25678)\t0.024730845098179174\n",
      "  (0, 27961)\t0.030285917051591844\n",
      "  (0, 33325)\t0.039328941495829425\n",
      "  (0, 44034)\t0.041318623023940196\n",
      "  (0, 26744)\t0.052624102915464065\n",
      "  (0, 36081)\t0.026186888309839812\n",
      "  (0, 26014)\t0.05071893177976078\n",
      "  (0, 11279)\t0.019342003697215268\n",
      "  (0, 45153)\t0.0331472514105529\n",
      "  (0, 5278)\t0.0216087505267642\n",
      "  (0, 48444)\t0.03766192066800802\n",
      "  (0, 28178)\t0.03808383439931828\n",
      "  (0, 46693)\t0.06351127676425108\n",
      "  (0, 14234)\t0.0386053477519896\n",
      "  (0, 14858)\t0.054025572674360055\n",
      "  (0, 14421)\t0.052624102915464065\n",
      "  (0, 31534)\t0.05306503083092344\n",
      "  (0, 36077)\t0.042720092782836186\n",
      "  (0, 16477)\t0.03899939444152591\n",
      "  (0, 3037)\t0.04506619183399884\n",
      "  :\t:\n",
      "  (0, 36824)\t0.051817728215625275\n",
      "  (0, 30327)\t0.03645389230515217\n",
      "  (0, 2332)\t0.04688143440679547\n",
      "  (0, 53923)\t0.051807904307200184\n",
      "  (0, 49844)\t0.02391665194421955\n",
      "  (0, 16128)\t0.01933475786831818\n",
      "  (0, 51805)\t0.0610245658831028\n",
      "  (0, 57852)\t0.042295736951066906\n",
      "  (0, 17351)\t0.05527603325457297\n",
      "  (0, 49497)\t0.027919988327908277\n",
      "  (0, 54538)\t0.03989089068641513\n",
      "  (0, 40666)\t0.04075122492268544\n",
      "  (0, 26426)\t0.04110678825966446\n",
      "  (0, 40446)\t0.09047456838434892\n",
      "  (0, 12013)\t0.05639260664360373\n",
      "  (0, 24736)\t0.03787014933897398\n",
      "  (0, 56623)\t0.0315430435753151\n",
      "  (0, 45859)\t0.07417519541305961\n",
      "  (0, 3961)\t0.04506619183399884\n",
      "  (0, 28581)\t0.04301189324781801\n",
      "  (0, 13894)\t0.06314108757791423\n",
      "  (0, 56650)\t0.045237886173245694\n",
      "  (0, 46033)\t0.04395600946394817\n",
      "  (0, 36457)\t0.035454048313902524\n",
      "  (0, 2161)\t0.018144119803682916\n"
     ]
    }
   ],
   "source": [
    "print(vec_train[0])"
   ]
  },
  {
   "cell_type": "code",
   "execution_count": 71,
   "metadata": {
    "colab": {
     "base_uri": "https://localhost:8080/"
    },
    "id": "fwXTbe0L_f2X",
    "outputId": "6f921d79-3db4-4da6-dd5e-d8cf56bfadf3"
   },
   "outputs": [
    {
     "name": "stdout",
     "output_type": "stream",
     "text": [
      "Accuracy: 94.63%\n"
     ]
    }
   ],
   "source": [
    "#PassiveAggressiveClassifier\n",
    "clf=PassiveAggressiveClassifier(C=1.3, max_iter=50, random_state=41)\n",
    "clf.fit(vec_train, y_train)\n",
    "\n",
    "#Predict on the test set and calculate accuracy\n",
    "#As the labels are pretty balanced, accuracy is a good method of evaluation\n",
    "pred=clf.predict(vec_test)\n",
    "score=accuracy_score(y_test, pred)\n",
    "print(f'Accuracy: {round(score*100,2)}%')"
   ]
  },
  {
   "cell_type": "code",
   "execution_count": 72,
   "metadata": {
    "colab": {
     "base_uri": "https://localhost:8080/"
    },
    "id": "G6lcHJxE_j2P",
    "outputId": "383b0e07-d4b4-42c9-ca88-eedd184adb23"
   },
   "outputs": [
    {
     "data": {
      "text/plain": [
       "array([[891,  44],\n",
       "       [ 58, 908]])"
      ]
     },
     "execution_count": 72,
     "metadata": {
      "tags": []
     },
     "output_type": "execute_result"
    }
   ],
   "source": [
    "#DataFlair - Build confusion matrix\n",
    "confusion_matrix(y_test, pred, labels=['FAKE','REAL'])"
   ]
  }
 ],
 "metadata": {
  "colab": {
   "name": "Detecting_Fake_News.ipynb",
   "provenance": []
  },
  "kernelspec": {
   "display_name": "Python 3",
   "language": "python",
   "name": "python3"
  },
  "language_info": {
   "codemirror_mode": {
    "name": "ipython",
    "version": 3
   },
   "file_extension": ".py",
   "mimetype": "text/x-python",
   "name": "python",
   "nbconvert_exporter": "python",
   "pygments_lexer": "ipython3",
   "version": "3.7.6"
  }
 },
 "nbformat": 4,
 "nbformat_minor": 1
}
